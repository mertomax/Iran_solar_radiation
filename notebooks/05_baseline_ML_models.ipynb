{
 "cells": [
  {
   "cell_type": "markdown",
   "id": "32847bc5-d26d-4b11-8863-238934312ee2",
   "metadata": {},
   "source": [
    "# Notebook 05:\n",
    "\n",
    "Building baseline ML models."
   ]
  },
  {
   "cell_type": "code",
   "execution_count": 1,
   "id": "e6fe8015-a717-4a57-9e39-86dd8e6f1c03",
   "metadata": {},
   "outputs": [
    {
     "name": "stderr",
     "output_type": "stream",
     "text": [
      "C:\\Users\\merto\\AppData\\Local\\Temp\\ipykernel_2764\\1809946969.py:1: DeprecationWarning: \n",
      "Pyarrow will become a required dependency of pandas in the next major release of pandas (pandas 3.0),\n",
      "(to allow more performant data types, such as the Arrow string type, and better interoperability with other libraries)\n",
      "but was not found to be installed on your system.\n",
      "If this would cause problems for you,\n",
      "please provide us feedback at https://github.com/pandas-dev/pandas/issues/54466\n",
      "        \n",
      "  import pandas as pd\n"
     ]
    }
   ],
   "source": [
    "import pandas as pd\n",
    "import numpy as np\n",
    "import matplotlib.pyplot as plt\n",
    "\n",
    "from sklearn.model_selection import train_test_split\n",
    "from sklearn.model_selection import GridSearchCV\n",
    "\n",
    "from sklearn.ensemble import RandomForestRegressor\n",
    "from sklearn.linear_model import LinearRegression\n",
    "from sklearn.linear_model import Ridge\n",
    "\n",
    "from sklearn.metrics import root_mean_squared_error\n",
    "from sklearn.metrics import r2_score\n",
    "\n",
    "from sklearn.base import clone\n",
    "\n",
    "import pickle\n",
    "\n",
    "from utility.model_evaluation import evaluate_data\n",
    "from utility.model_evaluation import evaluate_cities"
   ]
  },
  {
   "cell_type": "code",
   "execution_count": 2,
   "id": "e3cff89c-bf2b-4dd7-98f5-28431b5db453",
   "metadata": {},
   "outputs": [
    {
     "data": {
      "text/html": [
       "<div>\n",
       "<style scoped>\n",
       "    .dataframe tbody tr th:only-of-type {\n",
       "        vertical-align: middle;\n",
       "    }\n",
       "\n",
       "    .dataframe tbody tr th {\n",
       "        vertical-align: top;\n",
       "    }\n",
       "\n",
       "    .dataframe thead th {\n",
       "        text-align: right;\n",
       "    }\n",
       "</style>\n",
       "<table border=\"1\" class=\"dataframe\">\n",
       "  <thead>\n",
       "    <tr style=\"text-align: right;\">\n",
       "      <th></th>\n",
       "      <th>time</th>\n",
       "      <th>year</th>\n",
       "      <th>month</th>\n",
       "      <th>dom</th>\n",
       "      <th>doy</th>\n",
       "      <th>doysin</th>\n",
       "      <th>city</th>\n",
       "      <th>temp</th>\n",
       "      <th>rel_hum</th>\n",
       "      <th>abs_hum</th>\n",
       "      <th>ava_rad</th>\n",
       "      <th>et_rad</th>\n",
       "      <th>kt</th>\n",
       "      <th>cloudy</th>\n",
       "    </tr>\n",
       "  </thead>\n",
       "  <tbody>\n",
       "    <tr>\n",
       "      <th>0</th>\n",
       "      <td>1993-01-01</td>\n",
       "      <td>1993.0</td>\n",
       "      <td>1.0</td>\n",
       "      <td>1.0</td>\n",
       "      <td>1.0</td>\n",
       "      <td>0.009</td>\n",
       "      <td>BND</td>\n",
       "      <td>19.11</td>\n",
       "      <td>0.782</td>\n",
       "      <td>12.748946</td>\n",
       "      <td>12.62</td>\n",
       "      <td>21.652331</td>\n",
       "      <td>0.582847</td>\n",
       "      <td>False</td>\n",
       "    </tr>\n",
       "    <tr>\n",
       "      <th>1</th>\n",
       "      <td>1993-01-01</td>\n",
       "      <td>1993.0</td>\n",
       "      <td>1.0</td>\n",
       "      <td>1.0</td>\n",
       "      <td>1.0</td>\n",
       "      <td>0.009</td>\n",
       "      <td>ESF</td>\n",
       "      <td>0.44</td>\n",
       "      <td>0.462</td>\n",
       "      <td>2.240238</td>\n",
       "      <td>12.90</td>\n",
       "      <td>18.352701</td>\n",
       "      <td>0.702894</td>\n",
       "      <td>False</td>\n",
       "    </tr>\n",
       "    <tr>\n",
       "      <th>3</th>\n",
       "      <td>1993-01-01</td>\n",
       "      <td>1993.0</td>\n",
       "      <td>1.0</td>\n",
       "      <td>1.0</td>\n",
       "      <td>1.0</td>\n",
       "      <td>0.009</td>\n",
       "      <td>KRM</td>\n",
       "      <td>4.83</td>\n",
       "      <td>0.576</td>\n",
       "      <td>3.915072</td>\n",
       "      <td>13.38</td>\n",
       "      <td>19.798337</td>\n",
       "      <td>0.675814</td>\n",
       "      <td>False</td>\n",
       "    </tr>\n",
       "    <tr>\n",
       "      <th>4</th>\n",
       "      <td>1993-01-01</td>\n",
       "      <td>1993.0</td>\n",
       "      <td>1.0</td>\n",
       "      <td>1.0</td>\n",
       "      <td>1.0</td>\n",
       "      <td>0.009</td>\n",
       "      <td>MSH</td>\n",
       "      <td>-0.06</td>\n",
       "      <td>0.732</td>\n",
       "      <td>3.549468</td>\n",
       "      <td>10.42</td>\n",
       "      <td>16.104011</td>\n",
       "      <td>0.647044</td>\n",
       "      <td>False</td>\n",
       "    </tr>\n",
       "    <tr>\n",
       "      <th>5</th>\n",
       "      <td>1993-01-01</td>\n",
       "      <td>1993.0</td>\n",
       "      <td>1.0</td>\n",
       "      <td>1.0</td>\n",
       "      <td>1.0</td>\n",
       "      <td>0.009</td>\n",
       "      <td>SHZ</td>\n",
       "      <td>4.61</td>\n",
       "      <td>0.602</td>\n",
       "      <td>4.091794</td>\n",
       "      <td>14.62</td>\n",
       "      <td>20.216349</td>\n",
       "      <td>0.723177</td>\n",
       "      <td>False</td>\n",
       "    </tr>\n",
       "  </tbody>\n",
       "</table>\n",
       "</div>"
      ],
      "text/plain": [
       "        time    year  month  dom  doy  doysin city   temp  rel_hum    abs_hum  \\\n",
       "0 1993-01-01  1993.0    1.0  1.0  1.0   0.009  BND  19.11    0.782  12.748946   \n",
       "1 1993-01-01  1993.0    1.0  1.0  1.0   0.009  ESF   0.44    0.462   2.240238   \n",
       "3 1993-01-01  1993.0    1.0  1.0  1.0   0.009  KRM   4.83    0.576   3.915072   \n",
       "4 1993-01-01  1993.0    1.0  1.0  1.0   0.009  MSH  -0.06    0.732   3.549468   \n",
       "5 1993-01-01  1993.0    1.0  1.0  1.0   0.009  SHZ   4.61    0.602   4.091794   \n",
       "\n",
       "   ava_rad     et_rad        kt  cloudy  \n",
       "0    12.62  21.652331  0.582847   False  \n",
       "1    12.90  18.352701  0.702894   False  \n",
       "3    13.38  19.798337  0.675814   False  \n",
       "4    10.42  16.104011  0.647044   False  \n",
       "5    14.62  20.216349  0.723177   False  "
      ]
     },
     "execution_count": 2,
     "metadata": {},
     "output_type": "execute_result"
    }
   ],
   "source": [
    "#Loading cleaned data.\n",
    "\n",
    "with open(r'..\\data\\interim\\04_data_merging\\cleaned_data.pkl', 'rb') as f:\n",
    "    data = pickle.load(f)\n",
    "\n",
    "data.head()"
   ]
  },
  {
   "cell_type": "markdown",
   "id": "946a4494-c7e4-4929-8cd2-ab7234cf9383",
   "metadata": {},
   "source": [
    "## Cloudy samples investigation:\n",
    "\n",
    "In this section effect of cloudy samples on ML models is investigated."
   ]
  },
  {
   "cell_type": "code",
   "execution_count": 3,
   "id": "fa824787-c32e-409d-b65c-6579265067eb",
   "metadata": {},
   "outputs": [
    {
     "name": "stdout",
     "output_type": "stream",
     "text": [
      "Average R2 score                [train : 0.707, test : 0.708]\n",
      "Average root mean squared error [train : 3.980, test : 3.966]\n"
     ]
    }
   ],
   "source": [
    "# Ridge model with whole samples.\n",
    "\n",
    "evaluate_cities(Ridge(), data)\n",
    "pass"
   ]
  },
  {
   "cell_type": "code",
   "execution_count": 4,
   "id": "7f42c550-71e8-427d-9494-5e2e8e5ecdf9",
   "metadata": {},
   "outputs": [
    {
     "name": "stdout",
     "output_type": "stream",
     "text": [
      "Mean R2 score    [train : 0.776, test : 0.777]\n",
      "Mean rmse        [train : 3.265, test : 3.262]\n"
     ]
    },
    {
     "data": {
      "text/plain": [
       "{'score': (0.7763433239290418, 0.7769685373418713),\n",
       " 'rmse': (3.2646946468099585, 3.2623152868427363),\n",
       " 'model': Ridge()}"
      ]
     },
     "execution_count": 4,
     "metadata": {},
     "output_type": "execute_result"
    }
   ],
   "source": [
    "# Ridge model without cloudy samples\n",
    "\n",
    "evaluate_data(Ridge(), data[data.cloudy == False])"
   ]
  },
  {
   "cell_type": "code",
   "execution_count": 5,
   "id": "b3105602-6417-45bb-a4cd-b5fe20992660",
   "metadata": {},
   "outputs": [
    {
     "name": "stdout",
     "output_type": "stream",
     "text": [
      "Percentage of cloudy samples: 6.328 %\n"
     ]
    }
   ],
   "source": [
    "print('Percentage of cloudy samples: {:.3f} %'.format(data.cloudy.mean() * 100))"
   ]
  },
  {
   "cell_type": "markdown",
   "id": "3e31f706-642c-404f-8205-06799ed6d2fe",
   "metadata": {},
   "source": [
    "Above models showed that droping cloudy samples improves the R2 score from 0.699 to 0.778,\n",
    "witch is around 8% of the variation.\n",
    "\n",
    "Also cloudy samples are just about 6.3% of the whole dataset.\n",
    "\n",
    "So we have to consider if we should drop cloudy samples completely or not?\n",
    "\n",
    "To answer this we should test the model with only cloudy samples."
   ]
  },
  {
   "cell_type": "code",
   "execution_count": 6,
   "id": "e0b7efc8-3b15-4467-a297-27ad1792978d",
   "metadata": {},
   "outputs": [
    {
     "name": "stdout",
     "output_type": "stream",
     "text": [
      "R2 score of the training set: 0.700\n"
     ]
    }
   ],
   "source": [
    "# Training model of the whole training set. And evaluating it's score:\n",
    "\n",
    "X_train, X_test, y_train, y_test = train_test_split(data[['doy', 'temp', 'rel_hum', 'et_rad', 'cloudy']], data['ava_rad'], stratify=data['cloudy'], random_state=42)\n",
    "\n",
    "model = Ridge()\n",
    "model.fit(X_train[['doy', 'temp', 'rel_hum', 'et_rad']], y_train)\n",
    "\n",
    "score = model.score(X_train[['doy', 'temp', 'rel_hum', 'et_rad']], y_train)\n",
    "print('R2 score of the training set: {:.3f}'.format(score))"
   ]
  },
  {
   "cell_type": "code",
   "execution_count": 7,
   "id": "6d1ef091-a2f3-4ecd-baa9-761d59e67b82",
   "metadata": {},
   "outputs": [],
   "source": [
    "# Seperating cloudy and not_cloudy samples of the training set:\n",
    "\n",
    "# Not_cloudy samples:\n",
    "X_train_nc = X_train[X_train.cloudy == False]\n",
    "y_train_nc = y_train[X_train.cloudy == False]\n",
    "\n",
    "# Cloudy samples:\n",
    "X_train_c = X_train[X_train.cloudy == True]\n",
    "y_train_c = y_train[X_train.cloudy == True]"
   ]
  },
  {
   "cell_type": "code",
   "execution_count": 8,
   "id": "71fbf9e6-e720-4005-be19-d6ff8420ec0d",
   "metadata": {},
   "outputs": [
    {
     "name": "stdout",
     "output_type": "stream",
     "text": [
      "R2 score of the training set without cloudy samples: 0.765\n",
      "R2 score of the training set with just cloudy samples: -4.247\n"
     ]
    }
   ],
   "source": [
    "# Evaluating model on the training set:\n",
    "\n",
    "# Not_cloudy samples:\n",
    "score_train_nc = model.score(X_train_nc[['doy', 'temp', 'rel_hum', 'et_rad']], y_train_nc)\n",
    "print('R2 score of the training set without cloudy samples: {:.3f}'.format(score_train_nc))\n",
    "\n",
    "# Cloudy samples:\n",
    "score_train_c = model.score(X_train_c[['doy', 'temp', 'rel_hum', 'et_rad']], y_train_c)\n",
    "print('R2 score of the training set with just cloudy samples: {:.3f}'.format(score_train_c))"
   ]
  },
  {
   "cell_type": "markdown",
   "id": "749adfce-1158-468e-94b3-7556c79241e2",
   "metadata": {},
   "source": [
    "Above scores shows that the model cant even predict the cloudy samples that is been trained with!\n",
    "\n",
    "And cloudy samples are completely useless, they can not be predicted, and they just lower models score.\n",
    "\n",
    "So we just seperate cloudy samples, and train our models only on not_cloudy samples."
   ]
  },
  {
   "cell_type": "code",
   "execution_count": 9,
   "id": "40c62fb4-439e-4f16-ab1f-e0d2dcd8775f",
   "metadata": {},
   "outputs": [],
   "source": [
    "# pickling not_cloudy samples:\n",
    "\n",
    "not_cloudy = data[data.cloudy == False]\n",
    "not_cloudy = not_cloudy.drop(['cloudy'], axis=1)\n",
    "\n",
    "with open(r'..\\data\\interim\\05_machine_learning\\not_cloudy_data.pkl', 'wb') as f:\n",
    "    pickle.dump(not_cloudy, f)"
   ]
  },
  {
   "cell_type": "code",
   "execution_count": 10,
   "id": "0a7038c4-c2e1-41e6-bf53-4fff67a0e41d",
   "metadata": {},
   "outputs": [],
   "source": [
    "# Renaming DataFrames:\n",
    "\n",
    "# As we are going to work only on not_cloudy samples most of the times,\n",
    "# data is renamed to whole_data, and not_cloudy samples is renamed to data.\n",
    "\n",
    "whole_data = data\n",
    "data = not_cloudy"
   ]
  },
  {
   "cell_type": "markdown",
   "id": "d75f4c00-c12a-438b-9495-0c489b2208a0",
   "metadata": {},
   "source": [
    "## Selecting humidity features:\n",
    "\n",
    "In this section effect of different humidity features are investigated."
   ]
  },
  {
   "cell_type": "code",
   "execution_count": 11,
   "id": "c7907b4d-a50f-4897-be12-d2913224ad29",
   "metadata": {},
   "outputs": [
    {
     "name": "stdout",
     "output_type": "stream",
     "text": [
      "Average R2 score                [train : 0.785, test : 0.784]\n",
      "Average root mean squared error [train : 3.082, test : 3.063]\n"
     ]
    }
   ],
   "source": [
    "# Only use relative humidity:\n",
    "\n",
    "feature_set_1 = ['doysin', 'temp', 'rel_hum', 'et_rad']\n",
    "scores1, _, _ = evaluate_cities(LinearRegression(), data, input_columns=feature_set_1)"
   ]
  },
  {
   "cell_type": "code",
   "execution_count": 12,
   "id": "9cdacff7-d39e-4c26-9af1-aec0b110d7e0",
   "metadata": {},
   "outputs": [
    {
     "name": "stdout",
     "output_type": "stream",
     "text": [
      "Average R2 score                [train : 0.781, test : 0.779]\n",
      "Average root mean squared error [train : 3.107, test : 3.094]\n"
     ]
    }
   ],
   "source": [
    "# Only use absolute humidity:\n",
    "\n",
    "feature_set_2 = ['doysin', 'temp', 'abs_hum', 'et_rad']\n",
    "scores2, _, _ = evaluate_cities(LinearRegression(), data, input_columns=feature_set_2)"
   ]
  },
  {
   "cell_type": "code",
   "execution_count": 13,
   "id": "40c17669-9bcd-4c60-bfc5-a4171693d2c2",
   "metadata": {},
   "outputs": [
    {
     "name": "stdout",
     "output_type": "stream",
     "text": [
      "Average R2 score                [train : 0.789, test : 0.788]\n",
      "Average root mean squared error [train : 3.054, test : 3.034]\n"
     ]
    }
   ],
   "source": [
    "# Use both relative and absolute humidity:\n",
    "\n",
    "feature_set_3 = ['doysin', 'temp', 'rel_hum', 'abs_hum', 'et_rad']\n",
    "scores3, _, _ = evaluate_cities(LinearRegression(), data, input_columns=feature_set_3)"
   ]
  },
  {
   "cell_type": "markdown",
   "id": "c63e28e5-9200-4389-87fe-4f771b61740f",
   "metadata": {},
   "source": [
    "Average scores shows that using both relative and absolute humidity is the best combination.\n",
    "\n",
    "But what is the best combination for each inividual city?"
   ]
  },
  {
   "cell_type": "code",
   "execution_count": 14,
   "id": "87e4375f-4406-4d99-8a67-bad5d0071dfa",
   "metadata": {},
   "outputs": [
    {
     "data": {
      "text/html": [
       "<div>\n",
       "<style scoped>\n",
       "    .dataframe tbody tr th:only-of-type {\n",
       "        vertical-align: middle;\n",
       "    }\n",
       "\n",
       "    .dataframe tbody tr th {\n",
       "        vertical-align: top;\n",
       "    }\n",
       "\n",
       "    .dataframe thead th {\n",
       "        text-align: right;\n",
       "    }\n",
       "</style>\n",
       "<table border=\"1\" class=\"dataframe\">\n",
       "  <thead>\n",
       "    <tr style=\"text-align: right;\">\n",
       "      <th></th>\n",
       "      <th>1</th>\n",
       "      <th>2</th>\n",
       "      <th>3</th>\n",
       "    </tr>\n",
       "  </thead>\n",
       "  <tbody>\n",
       "    <tr>\n",
       "      <th>BND</th>\n",
       "      <td>0.773</td>\n",
       "      <td>0.774</td>\n",
       "      <td>0.774</td>\n",
       "    </tr>\n",
       "    <tr>\n",
       "      <th>ESF</th>\n",
       "      <td>0.845</td>\n",
       "      <td>0.843</td>\n",
       "      <td>0.846</td>\n",
       "    </tr>\n",
       "    <tr>\n",
       "      <th>KRM</th>\n",
       "      <td>0.810</td>\n",
       "      <td>0.820</td>\n",
       "      <td>0.820</td>\n",
       "    </tr>\n",
       "    <tr>\n",
       "      <th>MSH</th>\n",
       "      <td>0.834</td>\n",
       "      <td>0.836</td>\n",
       "      <td>0.838</td>\n",
       "    </tr>\n",
       "    <tr>\n",
       "      <th>SHZ</th>\n",
       "      <td>0.809</td>\n",
       "      <td>0.815</td>\n",
       "      <td>0.815</td>\n",
       "    </tr>\n",
       "    <tr>\n",
       "      <th>TBR</th>\n",
       "      <td>0.773</td>\n",
       "      <td>0.767</td>\n",
       "      <td>0.773</td>\n",
       "    </tr>\n",
       "    <tr>\n",
       "      <th>AHV</th>\n",
       "      <td>0.784</td>\n",
       "      <td>0.785</td>\n",
       "      <td>0.786</td>\n",
       "    </tr>\n",
       "    <tr>\n",
       "      <th>JSK</th>\n",
       "      <td>0.730</td>\n",
       "      <td>0.728</td>\n",
       "      <td>0.732</td>\n",
       "    </tr>\n",
       "    <tr>\n",
       "      <th>KRMS</th>\n",
       "      <td>0.775</td>\n",
       "      <td>0.774</td>\n",
       "      <td>0.778</td>\n",
       "    </tr>\n",
       "    <tr>\n",
       "      <th>ZNJ</th>\n",
       "      <td>0.784</td>\n",
       "      <td>0.768</td>\n",
       "      <td>0.786</td>\n",
       "    </tr>\n",
       "    <tr>\n",
       "      <th>BIR</th>\n",
       "      <td>0.784</td>\n",
       "      <td>0.785</td>\n",
       "      <td>0.786</td>\n",
       "    </tr>\n",
       "    <tr>\n",
       "      <th>ORO</th>\n",
       "      <td>0.829</td>\n",
       "      <td>0.811</td>\n",
       "      <td>0.832</td>\n",
       "    </tr>\n",
       "    <tr>\n",
       "      <th>YAZD</th>\n",
       "      <td>0.869</td>\n",
       "      <td>0.879</td>\n",
       "      <td>0.879</td>\n",
       "    </tr>\n",
       "    <tr>\n",
       "      <th>ZHD</th>\n",
       "      <td>0.708</td>\n",
       "      <td>0.714</td>\n",
       "      <td>0.713</td>\n",
       "    </tr>\n",
       "    <tr>\n",
       "      <th>BJN</th>\n",
       "      <td>0.767</td>\n",
       "      <td>0.747</td>\n",
       "      <td>0.768</td>\n",
       "    </tr>\n",
       "    <tr>\n",
       "      <th>ILM</th>\n",
       "      <td>0.745</td>\n",
       "      <td>0.746</td>\n",
       "      <td>0.748</td>\n",
       "    </tr>\n",
       "    <tr>\n",
       "      <th>ARD</th>\n",
       "      <td>0.726</td>\n",
       "      <td>0.700</td>\n",
       "      <td>0.747</td>\n",
       "    </tr>\n",
       "    <tr>\n",
       "      <th>QOM</th>\n",
       "      <td>0.812</td>\n",
       "      <td>0.814</td>\n",
       "      <td>0.814</td>\n",
       "    </tr>\n",
       "    <tr>\n",
       "      <th>GRG</th>\n",
       "      <td>0.618</td>\n",
       "      <td>0.569</td>\n",
       "      <td>0.621</td>\n",
       "    </tr>\n",
       "    <tr>\n",
       "      <th>QZV</th>\n",
       "      <td>0.840</td>\n",
       "      <td>0.826</td>\n",
       "      <td>0.843</td>\n",
       "    </tr>\n",
       "    <tr>\n",
       "      <th>YAS</th>\n",
       "      <td>0.723</td>\n",
       "      <td>0.726</td>\n",
       "      <td>0.727</td>\n",
       "    </tr>\n",
       "    <tr>\n",
       "      <th>ARK</th>\n",
       "      <td>0.802</td>\n",
       "      <td>0.802</td>\n",
       "      <td>0.807</td>\n",
       "    </tr>\n",
       "    <tr>\n",
       "      <th>KRJ</th>\n",
       "      <td>0.779</td>\n",
       "      <td>0.778</td>\n",
       "      <td>0.779</td>\n",
       "    </tr>\n",
       "    <tr>\n",
       "      <th>HMD</th>\n",
       "      <td>0.812</td>\n",
       "      <td>0.810</td>\n",
       "      <td>0.813</td>\n",
       "    </tr>\n",
       "    <tr>\n",
       "      <th>SMN</th>\n",
       "      <td>0.871</td>\n",
       "      <td>0.870</td>\n",
       "      <td>0.871</td>\n",
       "    </tr>\n",
       "  </tbody>\n",
       "</table>\n",
       "</div>"
      ],
      "text/plain": [
       "          1      2      3\n",
       "BND   0.773  0.774  0.774\n",
       "ESF   0.845  0.843  0.846\n",
       "KRM   0.810  0.820  0.820\n",
       "MSH   0.834  0.836  0.838\n",
       "SHZ   0.809  0.815  0.815\n",
       "TBR   0.773  0.767  0.773\n",
       "AHV   0.784  0.785  0.786\n",
       "JSK   0.730  0.728  0.732\n",
       "KRMS  0.775  0.774  0.778\n",
       "ZNJ   0.784  0.768  0.786\n",
       "BIR   0.784  0.785  0.786\n",
       "ORO   0.829  0.811  0.832\n",
       "YAZD  0.869  0.879  0.879\n",
       "ZHD   0.708  0.714  0.713\n",
       "BJN   0.767  0.747  0.768\n",
       "ILM   0.745  0.746  0.748\n",
       "ARD   0.726  0.700  0.747\n",
       "QOM   0.812  0.814  0.814\n",
       "GRG   0.618  0.569  0.621\n",
       "QZV   0.840  0.826  0.843\n",
       "YAS   0.723  0.726  0.727\n",
       "ARK   0.802  0.802  0.807\n",
       "KRJ   0.779  0.778  0.779\n",
       "HMD   0.812  0.810  0.813\n",
       "SMN   0.871  0.870  0.871"
      ]
     },
     "execution_count": 14,
     "metadata": {},
     "output_type": "execute_result"
    }
   ],
   "source": [
    "# combs_score shows test score of each city with each feature combination.\n",
    "\n",
    "combs_scores = pd.concat((scores1.test, scores2.test, scores3.test), axis=1, keys=(1, 2, 3))\n",
    "combs_scores = combs_scores.round(decimals=3)\n",
    "combs_scores"
   ]
  },
  {
   "cell_type": "code",
   "execution_count": 15,
   "id": "dec88b4f-1982-4305-adad-183e2bd45844",
   "metadata": {},
   "outputs": [
    {
     "data": {
      "text/html": [
       "<div>\n",
       "<style scoped>\n",
       "    .dataframe tbody tr th:only-of-type {\n",
       "        vertical-align: middle;\n",
       "    }\n",
       "\n",
       "    .dataframe tbody tr th {\n",
       "        vertical-align: top;\n",
       "    }\n",
       "\n",
       "    .dataframe thead th {\n",
       "        text-align: right;\n",
       "    }\n",
       "</style>\n",
       "<table border=\"1\" class=\"dataframe\">\n",
       "  <thead>\n",
       "    <tr style=\"text-align: right;\">\n",
       "      <th></th>\n",
       "      <th>1</th>\n",
       "      <th>2</th>\n",
       "      <th>3</th>\n",
       "    </tr>\n",
       "  </thead>\n",
       "  <tbody>\n",
       "    <tr>\n",
       "      <th>BND</th>\n",
       "      <td>False</td>\n",
       "      <td>True</td>\n",
       "      <td>True</td>\n",
       "    </tr>\n",
       "    <tr>\n",
       "      <th>ESF</th>\n",
       "      <td>False</td>\n",
       "      <td>False</td>\n",
       "      <td>True</td>\n",
       "    </tr>\n",
       "    <tr>\n",
       "      <th>KRM</th>\n",
       "      <td>False</td>\n",
       "      <td>True</td>\n",
       "      <td>True</td>\n",
       "    </tr>\n",
       "    <tr>\n",
       "      <th>MSH</th>\n",
       "      <td>False</td>\n",
       "      <td>False</td>\n",
       "      <td>True</td>\n",
       "    </tr>\n",
       "    <tr>\n",
       "      <th>SHZ</th>\n",
       "      <td>False</td>\n",
       "      <td>True</td>\n",
       "      <td>True</td>\n",
       "    </tr>\n",
       "    <tr>\n",
       "      <th>TBR</th>\n",
       "      <td>True</td>\n",
       "      <td>False</td>\n",
       "      <td>True</td>\n",
       "    </tr>\n",
       "    <tr>\n",
       "      <th>AHV</th>\n",
       "      <td>False</td>\n",
       "      <td>False</td>\n",
       "      <td>True</td>\n",
       "    </tr>\n",
       "    <tr>\n",
       "      <th>JSK</th>\n",
       "      <td>False</td>\n",
       "      <td>False</td>\n",
       "      <td>True</td>\n",
       "    </tr>\n",
       "    <tr>\n",
       "      <th>KRMS</th>\n",
       "      <td>False</td>\n",
       "      <td>False</td>\n",
       "      <td>True</td>\n",
       "    </tr>\n",
       "    <tr>\n",
       "      <th>ZNJ</th>\n",
       "      <td>False</td>\n",
       "      <td>False</td>\n",
       "      <td>True</td>\n",
       "    </tr>\n",
       "    <tr>\n",
       "      <th>BIR</th>\n",
       "      <td>False</td>\n",
       "      <td>False</td>\n",
       "      <td>True</td>\n",
       "    </tr>\n",
       "    <tr>\n",
       "      <th>ORO</th>\n",
       "      <td>False</td>\n",
       "      <td>False</td>\n",
       "      <td>True</td>\n",
       "    </tr>\n",
       "    <tr>\n",
       "      <th>YAZD</th>\n",
       "      <td>False</td>\n",
       "      <td>True</td>\n",
       "      <td>True</td>\n",
       "    </tr>\n",
       "    <tr>\n",
       "      <th>ZHD</th>\n",
       "      <td>False</td>\n",
       "      <td>True</td>\n",
       "      <td>False</td>\n",
       "    </tr>\n",
       "    <tr>\n",
       "      <th>BJN</th>\n",
       "      <td>False</td>\n",
       "      <td>False</td>\n",
       "      <td>True</td>\n",
       "    </tr>\n",
       "    <tr>\n",
       "      <th>ILM</th>\n",
       "      <td>False</td>\n",
       "      <td>False</td>\n",
       "      <td>True</td>\n",
       "    </tr>\n",
       "    <tr>\n",
       "      <th>ARD</th>\n",
       "      <td>False</td>\n",
       "      <td>False</td>\n",
       "      <td>True</td>\n",
       "    </tr>\n",
       "    <tr>\n",
       "      <th>QOM</th>\n",
       "      <td>False</td>\n",
       "      <td>True</td>\n",
       "      <td>True</td>\n",
       "    </tr>\n",
       "    <tr>\n",
       "      <th>GRG</th>\n",
       "      <td>False</td>\n",
       "      <td>False</td>\n",
       "      <td>True</td>\n",
       "    </tr>\n",
       "    <tr>\n",
       "      <th>QZV</th>\n",
       "      <td>False</td>\n",
       "      <td>False</td>\n",
       "      <td>True</td>\n",
       "    </tr>\n",
       "    <tr>\n",
       "      <th>YAS</th>\n",
       "      <td>False</td>\n",
       "      <td>False</td>\n",
       "      <td>True</td>\n",
       "    </tr>\n",
       "    <tr>\n",
       "      <th>ARK</th>\n",
       "      <td>False</td>\n",
       "      <td>False</td>\n",
       "      <td>True</td>\n",
       "    </tr>\n",
       "    <tr>\n",
       "      <th>KRJ</th>\n",
       "      <td>True</td>\n",
       "      <td>False</td>\n",
       "      <td>True</td>\n",
       "    </tr>\n",
       "    <tr>\n",
       "      <th>HMD</th>\n",
       "      <td>False</td>\n",
       "      <td>False</td>\n",
       "      <td>True</td>\n",
       "    </tr>\n",
       "    <tr>\n",
       "      <th>SMN</th>\n",
       "      <td>True</td>\n",
       "      <td>False</td>\n",
       "      <td>True</td>\n",
       "    </tr>\n",
       "  </tbody>\n",
       "</table>\n",
       "</div>"
      ],
      "text/plain": [
       "          1      2      3\n",
       "BND   False   True   True\n",
       "ESF   False  False   True\n",
       "KRM   False   True   True\n",
       "MSH   False  False   True\n",
       "SHZ   False   True   True\n",
       "TBR    True  False   True\n",
       "AHV   False  False   True\n",
       "JSK   False  False   True\n",
       "KRMS  False  False   True\n",
       "ZNJ   False  False   True\n",
       "BIR   False  False   True\n",
       "ORO   False  False   True\n",
       "YAZD  False   True   True\n",
       "ZHD   False   True  False\n",
       "BJN   False  False   True\n",
       "ILM   False  False   True\n",
       "ARD   False  False   True\n",
       "QOM   False   True   True\n",
       "GRG   False  False   True\n",
       "QZV   False  False   True\n",
       "YAS   False  False   True\n",
       "ARK   False  False   True\n",
       "KRJ    True  False   True\n",
       "HMD   False  False   True\n",
       "SMN    True  False   True"
      ]
     },
     "execution_count": 15,
     "metadata": {},
     "output_type": "execute_result"
    }
   ],
   "source": [
    "# best comb shows for each city, whitch combination has the best score\n",
    "\n",
    "best_comb = combs_scores.eq(combs_scores.max(axis=1), axis=0)\n",
    "best_comb"
   ]
  },
  {
   "cell_type": "code",
   "execution_count": 16,
   "id": "8a2bafbc-22e6-4d83-88de-d17e9d490f16",
   "metadata": {},
   "outputs": [
    {
     "data": {
      "text/plain": [
       "1     3\n",
       "2     6\n",
       "3    24\n",
       "dtype: int64"
      ]
     },
     "execution_count": 16,
     "metadata": {},
     "output_type": "execute_result"
    }
   ],
   "source": [
    "# To find out that how many citie have the best performance with each feature combination:\n",
    "\n",
    "best_comb.sum()"
   ]
  },
  {
   "cell_type": "markdown",
   "id": "7cda31f5-fdcc-423d-8d7b-6eee1c661518",
   "metadata": {},
   "source": [
    "Above results shows that the third combination (having both relative and absolute humidity),\n",
    "\n",
    "is the best choise for most of cities."
   ]
  },
  {
   "cell_type": "markdown",
   "id": "317dcf2c-6cf5-4227-a4e6-64a8126caf62",
   "metadata": {},
   "source": [
    "# Feature importance:\n",
    "\n",
    "Finding out how valuable each feature is:"
   ]
  },
  {
   "cell_type": "code",
   "execution_count": 17,
   "id": "4a69dfa5-9852-4954-885d-8ba7ba03129c",
   "metadata": {},
   "outputs": [
    {
     "name": "stdout",
     "output_type": "stream",
     "text": [
      "Mean R2 score    [train : 0.971, test : 0.792]\n",
      "Mean rmse        [train : 1.180, test : 3.152]\n"
     ]
    }
   ],
   "source": [
    "rf = RandomForestRegressor()\n",
    "evaluate_data(rf, data)\n",
    "pass"
   ]
  },
  {
   "cell_type": "code",
   "execution_count": 18,
   "id": "c9445f08-3b09-4922-8c7d-9fe1510321e6",
   "metadata": {},
   "outputs": [
    {
     "data": {
      "text/html": [
       "<div>\n",
       "<style scoped>\n",
       "    .dataframe tbody tr th:only-of-type {\n",
       "        vertical-align: middle;\n",
       "    }\n",
       "\n",
       "    .dataframe tbody tr th {\n",
       "        vertical-align: top;\n",
       "    }\n",
       "\n",
       "    .dataframe thead th {\n",
       "        text-align: right;\n",
       "    }\n",
       "</style>\n",
       "<table border=\"1\" class=\"dataframe\">\n",
       "  <thead>\n",
       "    <tr style=\"text-align: right;\">\n",
       "      <th></th>\n",
       "      <th>feature_importance</th>\n",
       "    </tr>\n",
       "  </thead>\n",
       "  <tbody>\n",
       "    <tr>\n",
       "      <th>doysin</th>\n",
       "      <td>0.097698</td>\n",
       "    </tr>\n",
       "    <tr>\n",
       "      <th>temp</th>\n",
       "      <td>0.047120</td>\n",
       "    </tr>\n",
       "    <tr>\n",
       "      <th>rel_hum</th>\n",
       "      <td>0.091531</td>\n",
       "    </tr>\n",
       "    <tr>\n",
       "      <th>abs_hum</th>\n",
       "      <td>0.063453</td>\n",
       "    </tr>\n",
       "    <tr>\n",
       "      <th>et_rad</th>\n",
       "      <td>0.700199</td>\n",
       "    </tr>\n",
       "  </tbody>\n",
       "</table>\n",
       "</div>"
      ],
      "text/plain": [
       "         feature_importance\n",
       "doysin             0.097698\n",
       "temp               0.047120\n",
       "rel_hum            0.091531\n",
       "abs_hum            0.063453\n",
       "et_rad             0.700199"
      ]
     },
     "execution_count": 18,
     "metadata": {},
     "output_type": "execute_result"
    }
   ],
   "source": [
    "# Showing feature importance\n",
    "\n",
    "fi = pd.DataFrame(index=rf.feature_names_in_,\n",
    "                  data=rf.feature_importances_,\n",
    "                  columns=['feature_importance'])\n",
    "fi"
   ]
  },
  {
   "cell_type": "markdown",
   "id": "28789291-b680-49aa-979a-d61748ea2998",
   "metadata": {},
   "source": [
    "The above DataFrame shows that the most important feature is et_rad,\n",
    "\n",
    "So can our model predict good enough without having et_rad, or only with having it?\n",
    "\n",
    "To test this, we train some models:"
   ]
  },
  {
   "cell_type": "code",
   "execution_count": 19,
   "id": "4f2354cd-9f26-4c05-83f3-735f2b27cc0b",
   "metadata": {},
   "outputs": [
    {
     "name": "stdout",
     "output_type": "stream",
     "text": [
      "Mean R2 score    [train : 0.797, test : 0.750]\n",
      "Mean rmse        [train : 3.114, test : 3.457]\n"
     ]
    }
   ],
   "source": [
    "# Testing a model only with et_rad feature:\n",
    "\n",
    "rf = RandomForestRegressor()\n",
    "evaluate_data(rf, data, input_columns=['et_rad'])\n",
    "pass"
   ]
  },
  {
   "cell_type": "code",
   "execution_count": 20,
   "id": "536c897e-d53a-49b0-8224-289da2a93f2e",
   "metadata": {},
   "outputs": [
    {
     "name": "stdout",
     "output_type": "stream",
     "text": [
      "Mean R2 score    [train : 0.963, test : 0.755]\n",
      "Mean rmse        [train : 1.327, test : 3.416]\n"
     ]
    }
   ],
   "source": [
    "# Testing a model without et_rad feature:\n",
    "\n",
    "rf = RandomForestRegressor()\n",
    "evaluate_data(rf, data, input_columns=['doysin', 'temp', 'rel_hum', 'abs_hum'])\n",
    "pass"
   ]
  },
  {
   "cell_type": "code",
   "execution_count": 21,
   "id": "f95a7e8c-036a-4c9e-a373-d28441ea519a",
   "metadata": {},
   "outputs": [
    {
     "data": {
      "text/html": [
       "<div>\n",
       "<style scoped>\n",
       "    .dataframe tbody tr th:only-of-type {\n",
       "        vertical-align: middle;\n",
       "    }\n",
       "\n",
       "    .dataframe tbody tr th {\n",
       "        vertical-align: top;\n",
       "    }\n",
       "\n",
       "    .dataframe thead th {\n",
       "        text-align: right;\n",
       "    }\n",
       "</style>\n",
       "<table border=\"1\" class=\"dataframe\">\n",
       "  <thead>\n",
       "    <tr style=\"text-align: right;\">\n",
       "      <th></th>\n",
       "      <th>feature_importance</th>\n",
       "    </tr>\n",
       "  </thead>\n",
       "  <tbody>\n",
       "    <tr>\n",
       "      <th>doysin</th>\n",
       "      <td>0.725910</td>\n",
       "    </tr>\n",
       "    <tr>\n",
       "      <th>temp</th>\n",
       "      <td>0.073139</td>\n",
       "    </tr>\n",
       "    <tr>\n",
       "      <th>rel_hum</th>\n",
       "      <td>0.111197</td>\n",
       "    </tr>\n",
       "    <tr>\n",
       "      <th>abs_hum</th>\n",
       "      <td>0.089755</td>\n",
       "    </tr>\n",
       "  </tbody>\n",
       "</table>\n",
       "</div>"
      ],
      "text/plain": [
       "         feature_importance\n",
       "doysin             0.725910\n",
       "temp               0.073139\n",
       "rel_hum            0.111197\n",
       "abs_hum            0.089755"
      ]
     },
     "execution_count": 21,
     "metadata": {},
     "output_type": "execute_result"
    }
   ],
   "source": [
    "# Showing feature importance\n",
    "\n",
    "fi = pd.DataFrame(index=rf.feature_names_in_,\n",
    "                  data=rf.feature_importances_,\n",
    "                  columns=['feature_importance'])\n",
    "fi"
   ]
  },
  {
   "cell_type": "markdown",
   "id": "6d6811c5-1b5a-44f1-b1c0-3fab0164e90f",
   "metadata": {},
   "source": [
    "Above results shows that it's posible to get good enough withou having et_rad feature.\n",
    "\n",
    "But still the most important feature is et_rad!"
   ]
  },
  {
   "cell_type": "markdown",
   "id": "157eda6a-25cf-415f-8e9b-5eaf5d4a8497",
   "metadata": {},
   "source": [
    "## Training models:\n"
   ]
  },
  {
   "cell_type": "code",
   "execution_count": 22,
   "id": "5f2ad262-8b5f-4c18-85af-6de4ff92a527",
   "metadata": {},
   "outputs": [
    {
     "name": "stdout",
     "output_type": "stream",
     "text": [
      "Mean R2 score    [train : 0.776, test : 0.777]\n",
      "Mean rmse        [train : 3.265, test : 3.262]\n"
     ]
    }
   ],
   "source": [
    "# Training a LinearRegression:\n",
    "\n",
    "evaluate_data(LinearRegression(), data)\n",
    "pass"
   ]
  },
  {
   "cell_type": "code",
   "execution_count": 23,
   "id": "48b6b5ba-59b3-43db-ac53-b9e978942b95",
   "metadata": {},
   "outputs": [
    {
     "name": "stdout",
     "output_type": "stream",
     "text": [
      "Mean R2 score    [train : 0.971, test : 0.792]\n",
      "Mean rmse        [train : 1.180, test : 3.147]\n"
     ]
    }
   ],
   "source": [
    "# Training a RandomForest:\n",
    "\n",
    "evaluate_data(RandomForestRegressor(), data)\n",
    "pass"
   ]
  },
  {
   "cell_type": "code",
   "execution_count": 24,
   "id": "b89dbefe-1392-431e-826b-daac2562980d",
   "metadata": {},
   "outputs": [
    {
     "name": "stdout",
     "output_type": "stream",
     "text": [
      "Mean R2 score    [train : 0.776, test : 0.777]\n",
      "Mean rmse        [train : 3.265, test : 3.262]\n"
     ]
    }
   ],
   "source": [
    "# Training a Ridge model:\n",
    "\n",
    "evaluate_data(Ridge(), data)\n",
    "pass"
   ]
  },
  {
   "cell_type": "markdown",
   "id": "16a17e73-dd0f-4f8c-bd4d-14e66cc99093",
   "metadata": {},
   "source": [
    "##### scores of LinearRegression and Ridge are the same. And score of RandomForest is 0.015 point higher.\n",
    "\n",
    "This shows that due to the high number of samples and few number of features, the models don't overfit easily.\n",
    "\n",
    "And due to the simple structure of linear models, they are a good choice for this data.\n",
    "\n",
    "But, what if data is splited by city, and train individual models on each of them?\n",
    "\n",
    "The drop in the size of the dataset may drop down scores.\n",
    "\n",
    "So we have to test the result of spliting data by city!"
   ]
  },
  {
   "cell_type": "code",
   "execution_count": 25,
   "id": "186a3393-9f06-4dec-af9b-dae104829477",
   "metadata": {},
   "outputs": [
    {
     "name": "stdout",
     "output_type": "stream",
     "text": [
      "Average R2 score                [train : 0.788, test : 0.788]\n",
      "Average root mean squared error [train : 3.054, test : 3.035]\n"
     ]
    }
   ],
   "source": [
    "# Training a Ridge model on each city:\n",
    "\n",
    "r2s, rmses, models = evaluate_cities(Ridge(), data)"
   ]
  },
  {
   "cell_type": "code",
   "execution_count": 26,
   "id": "07feb607-0e5b-4cd9-99cf-48532839cdd9",
   "metadata": {},
   "outputs": [
    {
     "data": {
      "text/html": [
       "<div>\n",
       "<style scoped>\n",
       "    .dataframe tbody tr th:only-of-type {\n",
       "        vertical-align: middle;\n",
       "    }\n",
       "\n",
       "    .dataframe tbody tr th {\n",
       "        vertical-align: top;\n",
       "    }\n",
       "\n",
       "    .dataframe thead th {\n",
       "        text-align: right;\n",
       "    }\n",
       "</style>\n",
       "<table border=\"1\" class=\"dataframe\">\n",
       "  <thead>\n",
       "    <tr style=\"text-align: right;\">\n",
       "      <th></th>\n",
       "      <th>train</th>\n",
       "      <th>test</th>\n",
       "    </tr>\n",
       "  </thead>\n",
       "  <tbody>\n",
       "    <tr>\n",
       "      <th>BND</th>\n",
       "      <td>0.778414</td>\n",
       "      <td>0.774149</td>\n",
       "    </tr>\n",
       "    <tr>\n",
       "      <th>ESF</th>\n",
       "      <td>0.837641</td>\n",
       "      <td>0.846319</td>\n",
       "    </tr>\n",
       "    <tr>\n",
       "      <th>KRM</th>\n",
       "      <td>0.826772</td>\n",
       "      <td>0.820154</td>\n",
       "    </tr>\n",
       "    <tr>\n",
       "      <th>MSH</th>\n",
       "      <td>0.840709</td>\n",
       "      <td>0.837895</td>\n",
       "    </tr>\n",
       "    <tr>\n",
       "      <th>SHZ</th>\n",
       "      <td>0.831814</td>\n",
       "      <td>0.815168</td>\n",
       "    </tr>\n",
       "    <tr>\n",
       "      <th>TBR</th>\n",
       "      <td>0.765357</td>\n",
       "      <td>0.772775</td>\n",
       "    </tr>\n",
       "    <tr>\n",
       "      <th>AHV</th>\n",
       "      <td>0.802316</td>\n",
       "      <td>0.786224</td>\n",
       "    </tr>\n",
       "    <tr>\n",
       "      <th>JSK</th>\n",
       "      <td>0.745455</td>\n",
       "      <td>0.731098</td>\n",
       "    </tr>\n",
       "    <tr>\n",
       "      <th>KRMS</th>\n",
       "      <td>0.762268</td>\n",
       "      <td>0.777983</td>\n",
       "    </tr>\n",
       "    <tr>\n",
       "      <th>ZNJ</th>\n",
       "      <td>0.770331</td>\n",
       "      <td>0.786223</td>\n",
       "    </tr>\n",
       "    <tr>\n",
       "      <th>BIR</th>\n",
       "      <td>0.790267</td>\n",
       "      <td>0.786045</td>\n",
       "    </tr>\n",
       "    <tr>\n",
       "      <th>ORO</th>\n",
       "      <td>0.825806</td>\n",
       "      <td>0.832168</td>\n",
       "    </tr>\n",
       "    <tr>\n",
       "      <th>YAZD</th>\n",
       "      <td>0.883672</td>\n",
       "      <td>0.878657</td>\n",
       "    </tr>\n",
       "    <tr>\n",
       "      <th>ZHD</th>\n",
       "      <td>0.683731</td>\n",
       "      <td>0.713652</td>\n",
       "    </tr>\n",
       "    <tr>\n",
       "      <th>BJN</th>\n",
       "      <td>0.763728</td>\n",
       "      <td>0.767894</td>\n",
       "    </tr>\n",
       "    <tr>\n",
       "      <th>ILM</th>\n",
       "      <td>0.775918</td>\n",
       "      <td>0.747778</td>\n",
       "    </tr>\n",
       "    <tr>\n",
       "      <th>ARD</th>\n",
       "      <td>0.737326</td>\n",
       "      <td>0.746075</td>\n",
       "    </tr>\n",
       "    <tr>\n",
       "      <th>QOM</th>\n",
       "      <td>0.820199</td>\n",
       "      <td>0.814059</td>\n",
       "    </tr>\n",
       "    <tr>\n",
       "      <th>GRG</th>\n",
       "      <td>0.659946</td>\n",
       "      <td>0.620204</td>\n",
       "    </tr>\n",
       "    <tr>\n",
       "      <th>QZV</th>\n",
       "      <td>0.831735</td>\n",
       "      <td>0.842369</td>\n",
       "    </tr>\n",
       "    <tr>\n",
       "      <th>YAS</th>\n",
       "      <td>0.730878</td>\n",
       "      <td>0.727417</td>\n",
       "    </tr>\n",
       "    <tr>\n",
       "      <th>ARK</th>\n",
       "      <td>0.803295</td>\n",
       "      <td>0.806469</td>\n",
       "    </tr>\n",
       "    <tr>\n",
       "      <th>KRJ</th>\n",
       "      <td>0.769581</td>\n",
       "      <td>0.779723</td>\n",
       "    </tr>\n",
       "    <tr>\n",
       "      <th>HMD</th>\n",
       "      <td>0.797342</td>\n",
       "      <td>0.813240</td>\n",
       "    </tr>\n",
       "    <tr>\n",
       "      <th>SMN</th>\n",
       "      <td>0.876080</td>\n",
       "      <td>0.870933</td>\n",
       "    </tr>\n",
       "  </tbody>\n",
       "</table>\n",
       "</div>"
      ],
      "text/plain": [
       "         train      test\n",
       "BND   0.778414  0.774149\n",
       "ESF   0.837641  0.846319\n",
       "KRM   0.826772  0.820154\n",
       "MSH   0.840709  0.837895\n",
       "SHZ   0.831814  0.815168\n",
       "TBR   0.765357  0.772775\n",
       "AHV   0.802316  0.786224\n",
       "JSK   0.745455  0.731098\n",
       "KRMS  0.762268  0.777983\n",
       "ZNJ   0.770331  0.786223\n",
       "BIR   0.790267  0.786045\n",
       "ORO   0.825806  0.832168\n",
       "YAZD  0.883672  0.878657\n",
       "ZHD   0.683731  0.713652\n",
       "BJN   0.763728  0.767894\n",
       "ILM   0.775918  0.747778\n",
       "ARD   0.737326  0.746075\n",
       "QOM   0.820199  0.814059\n",
       "GRG   0.659946  0.620204\n",
       "QZV   0.831735  0.842369\n",
       "YAS   0.730878  0.727417\n",
       "ARK   0.803295  0.806469\n",
       "KRJ   0.769581  0.779723\n",
       "HMD   0.797342  0.813240\n",
       "SMN   0.876080  0.870933"
      ]
     },
     "execution_count": 26,
     "metadata": {},
     "output_type": "execute_result"
    }
   ],
   "source": [
    "# Showing r2 scores of trained models on each city:\n",
    "\n",
    "r2s"
   ]
  },
  {
   "cell_type": "markdown",
   "id": "fd554d05-4c9f-49e8-8ed4-6d5cc1c3686a",
   "metadata": {},
   "source": [
    "## Conclusion:\n",
    "In this notebook:\n",
    "\n",
    "1. Effect of cloudy samples on ML models is investigated.\n",
    "2. The best combination of humidity features is fined.\n",
    "3. Importance of different features is investigated.\n",
    "4. Score of ML models on each individual city, and all cities at once are calculated."
   ]
  },
  {
   "cell_type": "code",
   "execution_count": null,
   "id": "939f64e4-926a-4a59-9dc0-5e1da71940b7",
   "metadata": {},
   "outputs": [],
   "source": []
  }
 ],
 "metadata": {
  "kernelspec": {
   "display_name": "Iran_radiation_venv",
   "language": "python",
   "name": "iran_radiation_venv"
  },
  "language_info": {
   "codemirror_mode": {
    "name": "ipython",
    "version": 3
   },
   "file_extension": ".py",
   "mimetype": "text/x-python",
   "name": "python",
   "nbconvert_exporter": "python",
   "pygments_lexer": "ipython3",
   "version": "3.11.5"
  }
 },
 "nbformat": 4,
 "nbformat_minor": 5
}
